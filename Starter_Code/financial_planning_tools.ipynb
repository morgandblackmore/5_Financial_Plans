{
 "cells": [
  {
   "cell_type": "markdown",
   "metadata": {},
   "source": [
    "# Financial Planning with APIs and Simulations\n",
    "\n",
    "In this Challenge, you’ll create two financial analysis tools by using a single Jupyter notebook:\n",
    "\n",
    "Part 1: A financial planner for emergencies. The members will be able to use this tool to visualize their current savings. The members can then determine if they have enough reserves for an emergency fund.\n",
    "\n",
    "Part 2: A financial planner for retirement. This tool will forecast the performance of their retirement portfolio in 30 years. To do this, the tool will make an Alpaca API call via the Alpaca SDK to get historical price data for use in Monte Carlo simulations.\n",
    "\n",
    "You’ll use the information from the Monte Carlo simulation to answer questions about the portfolio in your Jupyter notebook.\n",
    "\n"
   ]
  },
  {
   "cell_type": "code",
   "execution_count": 24,
   "metadata": {},
   "outputs": [],
   "source": [
    "# Import the required libraries and dependencies\n",
    "import os\n",
    "import requests\n",
    "import json\n",
    "import pandas as pd\n",
    "from dotenv import load_dotenv\n",
    "import alpaca_trade_api as tradeapi\n",
    "from alpaca_trade_api.rest import TimeFrame\n",
    "from MCForecastTools import MCSimulation\n",
    "\n",
    "%matplotlib inline"
   ]
  },
  {
   "cell_type": "code",
   "execution_count": 2,
   "metadata": {},
   "outputs": [
    {
     "data": {
      "text/plain": [
       "True"
      ]
     },
     "execution_count": 2,
     "metadata": {},
     "output_type": "execute_result"
    }
   ],
   "source": [
    "# Load the environment variables from the .env file\n",
    "#by calling the load_dotenv function\n",
    "load_dotenv()"
   ]
  },
  {
   "cell_type": "markdown",
   "metadata": {},
   "source": [
    "## Part 1: Create a Financial Planner for Emergencies"
   ]
  },
  {
   "cell_type": "markdown",
   "metadata": {},
   "source": [
    "### Evaluate the Cryptocurrency Wallet by Using the Requests Library\n",
    "\n",
    "In this section, you’ll determine the current value of a member’s cryptocurrency wallet. You’ll collect the current prices for the Bitcoin and Ethereum cryptocurrencies by using the Python Requests library. For the prototype, you’ll assume that the member holds the 1.2 Bitcoins (BTC) and 5.3 Ethereum coins (ETH). To do all this, complete the following steps:\n",
    "\n",
    "1. Create a variable named `monthly_income`, and set its value to `12000`.\n",
    "\n",
    "2. Use the Requests library to get the current price (in US dollars) of Bitcoin (BTC) and Ethereum (ETH) by using the API endpoints that the starter code supplies.\n",
    "\n",
    "3. Navigate the JSON response object to access the current price of each coin, and store each in a variable.\n",
    "\n",
    "    > **Hint** Note the specific identifier for each cryptocurrency in the API JSON response. The Bitcoin identifier is `1`, and the Ethereum identifier is `1027`.\n",
    "\n",
    "4. Calculate the value, in US dollars, of the current amount of each cryptocurrency and of the entire cryptocurrency wallet.\n",
    "\n"
   ]
  },
  {
   "cell_type": "code",
   "execution_count": 3,
   "metadata": {},
   "outputs": [],
   "source": [
    "# The current number of coins for each cryptocurrency asset held in the portfolio.\n",
    "btc_coins = 1.2\n",
    "eth_coins = 5.3"
   ]
  },
  {
   "cell_type": "markdown",
   "metadata": {},
   "source": [
    "#### Step 1: Create a variable named `monthly_income`, and set its value to `12000`."
   ]
  },
  {
   "cell_type": "code",
   "execution_count": 4,
   "metadata": {},
   "outputs": [],
   "source": [
    "# The monthly amount for the member's household income\n",
    "monthly_income = 12000"
   ]
  },
  {
   "cell_type": "markdown",
   "metadata": {},
   "source": [
    "#### Review the endpoint URLs for the API calls to Free Crypto API in order to get the current pricing information for both BTC and ETH."
   ]
  },
  {
   "cell_type": "code",
   "execution_count": 5,
   "metadata": {},
   "outputs": [],
   "source": [
    "# The Free Crypto API Call endpoint URLs for the held cryptocurrency assets\n",
    "btc_url = \"https://api.alternative.me/v2/ticker/Bitcoin/?convert=USD\"\n",
    "eth_url = \"https://api.alternative.me/v2/ticker/Ethereum/?convert=USD\""
   ]
  },
  {
   "cell_type": "markdown",
   "metadata": {},
   "source": [
    "#### Step 2. Use the Requests library to get the current price (in US dollars) of Bitcoin (BTC) and Ethereum (ETH) by using the API endpoints that the starter code supplied."
   ]
  },
  {
   "cell_type": "code",
   "execution_count": 8,
   "metadata": {},
   "outputs": [
    {
     "name": "stdout",
     "output_type": "stream",
     "text": [
      "{\n",
      "    \"data\": {\n",
      "        \"1\": {\n",
      "            \"circulating_supply\": 18988006,\n",
      "            \"id\": 1,\n",
      "            \"last_updated\": 1647716975,\n",
      "            \"max_supply\": 21000000,\n",
      "            \"name\": \"Bitcoin\",\n",
      "            \"quotes\": {\n",
      "                \"USD\": {\n",
      "                    \"market_cap\": 797665219472,\n",
      "                    \"percent_change_1h\": 0.155920414262666,\n",
      "                    \"percent_change_24h\": 0.638182724142076,\n",
      "                    \"percent_change_7d\": 8.26034033664674,\n",
      "                    \"percentage_change_1h\": 0.155920414262666,\n",
      "                    \"percentage_change_24h\": 0.638182724142076,\n",
      "                    \"percentage_change_7d\": 8.26034033664674,\n",
      "                    \"price\": 41978.0,\n",
      "                    \"volume_24h\": 48038495280\n",
      "                }\n",
      "            },\n",
      "            \"rank\": 1,\n",
      "            \"symbol\": \"BTC\",\n",
      "            \"total_supply\": 18988006,\n",
      "            \"website_slug\": \"bitcoin\"\n",
      "        }\n",
      "    },\n",
      "    \"metadata\": {\n",
      "        \"error\": null,\n",
      "        \"num_cryptocurrencies\": 3105,\n",
      "        \"timestamp\": 1647716975\n",
      "    }\n",
      "}\n"
     ]
    }
   ],
   "source": [
    "# Using the Python requests library, make an API call to access the current price of BTC\n",
    "btc_response = requests.get(btc_url).json()\n",
    "\n",
    "# Use the json.dumps function to review the response data from the API call\n",
    "# Use the indent and sort_keys parameters to make the response object readable\n",
    "print(json.dumps(btc_response, indent=4, sort_keys=True))"
   ]
  },
  {
   "cell_type": "code",
   "execution_count": 15,
   "metadata": {},
   "outputs": [
    {
     "name": "stdout",
     "output_type": "stream",
     "text": [
      "{\n",
      "    \"data\": {\n",
      "        \"1027\": {\n",
      "            \"circulating_supply\": 120027753,\n",
      "            \"id\": 1027,\n",
      "            \"last_updated\": 1647717185,\n",
      "            \"max_supply\": 0,\n",
      "            \"name\": \"Ethereum\",\n",
      "            \"quotes\": {\n",
      "                \"USD\": {\n",
      "                    \"market_cap\": 354333396362,\n",
      "                    \"percent_change_1h\": -0.117000549166778,\n",
      "                    \"percent_change_24h\": 0.540061684192691,\n",
      "                    \"percent_change_7d\": 15.2017329913396,\n",
      "                    \"percentage_change_1h\": -0.117000549166778,\n",
      "                    \"percentage_change_24h\": 0.540061684192691,\n",
      "                    \"percentage_change_7d\": 15.2017329913396,\n",
      "                    \"price\": 2952.43,\n",
      "                    \"volume_24h\": 10650834107\n",
      "                }\n",
      "            },\n",
      "            \"rank\": 2,\n",
      "            \"symbol\": \"ETH\",\n",
      "            \"total_supply\": 120027753,\n",
      "            \"website_slug\": \"ethereum\"\n",
      "        }\n",
      "    },\n",
      "    \"metadata\": {\n",
      "        \"error\": null,\n",
      "        \"num_cryptocurrencies\": 3105,\n",
      "        \"timestamp\": 1647717185\n",
      "    }\n",
      "}\n"
     ]
    }
   ],
   "source": [
    "# Using the Python requests library, make an API call to access the current price ETH\n",
    "eth_response = requests.get(eth_url).json()\n",
    "\n",
    "# Use the json.dumps function to review the response data from the API call\n",
    "# Use the indent and sort_keys parameters to make the response object readable\n",
    "print(json.dumps(eth_response, indent=4, sort_keys=True))\n"
   ]
  },
  {
   "cell_type": "markdown",
   "metadata": {},
   "source": [
    "#### Step 3: Navigate the JSON response object to access the current price of each coin, and store each in a variable."
   ]
  },
  {
   "cell_type": "code",
   "execution_count": 11,
   "metadata": {},
   "outputs": [
    {
     "name": "stdout",
     "output_type": "stream",
     "text": [
      "41978.0\n"
     ]
    }
   ],
   "source": [
    "# Navigate the BTC response object to access the current price of BTC\n",
    "btc_price = btc_response[\"data\"][\"1\"][\"quotes\"][\"USD\"][\"price\"]\n",
    "\n",
    "# Print the current price of BTC\n",
    "print(btc_price)"
   ]
  },
  {
   "cell_type": "code",
   "execution_count": 16,
   "metadata": {},
   "outputs": [
    {
     "name": "stdout",
     "output_type": "stream",
     "text": [
      "2952.43\n"
     ]
    }
   ],
   "source": [
    "# Navigate the BTC response object to access the current price of ETH\n",
    "eth_price = eth_response[\"data\"][\"1027\"][\"quotes\"][\"USD\"][\"price\"]\n",
    "\n",
    "# Print the current price of ETH\n",
    "print(eth_price)\n"
   ]
  },
  {
   "cell_type": "markdown",
   "metadata": {},
   "source": [
    "### Step 4: Calculate the value, in US dollars, of the current amount of each cryptocurrency and of the entire cryptocurrency wallet."
   ]
  },
  {
   "cell_type": "code",
   "execution_count": 18,
   "metadata": {},
   "outputs": [
    {
     "data": {
      "text/plain": [
       "50373.6"
      ]
     },
     "execution_count": 18,
     "metadata": {},
     "output_type": "execute_result"
    }
   ],
   "source": [
    "# Compute the current value of the BTC holding \n",
    "btc_value = btc_price * btc_coins\n",
    "\n",
    "# Print current value of your holding in BTC\n",
    "btc_value\n"
   ]
  },
  {
   "cell_type": "code",
   "execution_count": 19,
   "metadata": {},
   "outputs": [
    {
     "data": {
      "text/plain": [
       "15647.878999999999"
      ]
     },
     "execution_count": 19,
     "metadata": {},
     "output_type": "execute_result"
    }
   ],
   "source": [
    "# Compute the current value of the ETH holding \n",
    "eth_value = eth_price * eth_coins\n",
    "\n",
    "# Print current value of your holding in ETH\n",
    "eth_value\n"
   ]
  },
  {
   "cell_type": "code",
   "execution_count": 20,
   "metadata": {},
   "outputs": [
    {
     "data": {
      "text/plain": [
       "66021.47899999999"
      ]
     },
     "execution_count": 20,
     "metadata": {},
     "output_type": "execute_result"
    }
   ],
   "source": [
    "# Compute the total value of the cryptocurrency wallet\n",
    "# Add the value of the BTC holding to the value of the ETH holding\n",
    "total_crypto_wallet = eth_value + btc_value\n",
    "\n",
    "# Print current cryptocurrency wallet balance\n",
    "total_crypto_wallet\n"
   ]
  },
  {
   "cell_type": "markdown",
   "metadata": {},
   "source": [
    "### Evaluate the Stock and Bond Holdings by Using the Alpaca SDK\n",
    "\n",
    "In this section, you’ll determine the current value of a member’s stock and bond holdings. You’ll make an API call to Alpaca via the Alpaca SDK to get the current closing prices of the SPDR S&P 500 ETF Trust (ticker: SPY) and of the iShares Core US Aggregate Bond ETF (ticker: AGG). For the prototype, assume that the member holds 110 shares of SPY, which represents the stock portion of their portfolio, and 200 shares of AGG, which represents the bond portion. To do all this, complete the following steps:\n",
    "\n",
    "1. In the `Starter_Code` folder, create an environment file (`.env`) to store the values of your Alpaca API key and Alpaca secret key.\n",
    "\n",
    "2. Set the variables for the Alpaca API and secret keys. Using the Alpaca SDK, create the Alpaca `tradeapi.REST` object. In this object, include the parameters for the Alpaca API key, the secret key, and the version number.\n",
    "\n",
    "3. Set the following parameters for the Alpaca API call:\n",
    "\n",
    "    - `tickers`: Use the tickers for the member’s stock and bond holdings.\n",
    "\n",
    "    - `timeframe`: Use a time frame of one day.\n",
    "\n",
    "    - `start_date` and `end_date`: Use the same date for these parameters, and format them with the date of the previous weekday (or `2020-08-07`). This is because you want the one closing price for the most-recent trading day.\n",
    "\n",
    "4. Get the current closing prices for `SPY` and `AGG` by using the Alpaca `get_barset` function. Format the response as a Pandas DataFrame by including the `df` property at the end of the `get_barset` function.\n",
    "\n",
    "5. Navigating the Alpaca response DataFrame, select the `SPY` and `AGG` closing prices, and store them as variables.\n",
    "\n",
    "6. Calculate the value, in US dollars, of the current amount of shares in each of the stock and bond portions of the portfolio, and print the results.\n"
   ]
  },
  {
   "cell_type": "markdown",
   "metadata": {},
   "source": [
    "#### Review the total number of shares held in both (SPY) and (AGG)."
   ]
  },
  {
   "cell_type": "code",
   "execution_count": 21,
   "metadata": {},
   "outputs": [],
   "source": [
    "# Current amount of shares held in both the stock (SPY) and bond (AGG) portion of the portfolio.\n",
    "spy_shares = 110\n",
    "agg_shares = 200\n"
   ]
  },
  {
   "cell_type": "markdown",
   "metadata": {},
   "source": [
    "#### Step 1: In the `Starter_Code` folder, create an environment file (`.env`) to store the values of your Alpaca API key and Alpaca secret key."
   ]
  },
  {
   "cell_type": "markdown",
   "metadata": {},
   "source": [
    "#### Step 2: Set the variables for the Alpaca API and secret keys. Using the Alpaca SDK, create the Alpaca `tradeapi.REST` object. In this object, include the parameters for the Alpaca API key, the secret key, and the version number."
   ]
  },
  {
   "cell_type": "code",
   "execution_count": 22,
   "metadata": {},
   "outputs": [],
   "source": [
    "# Set the variables for the Alpaca API and secret keys\n",
    "# Set Alpaca API key and secret\n",
    "alpaca_api_key = os.getenv(\"ALPACA_API_KEY\")\n",
    "alpaca_secret_key = os.getenv(\"ALPACA_SECRET_KEY\")\n",
    "\n",
    "# Create the Alpaca API object\n",
    "alpaca = tradeapi.REST(\n",
    "    alpaca_api_key,\n",
    "    alpaca_secret_key,\n",
    "    api_version=\"v2\")\n"
   ]
  },
  {
   "cell_type": "markdown",
   "metadata": {},
   "source": [
    "#### Step 3: Set the following parameters for the Alpaca API call:\n",
    "\n",
    "- `tickers`: Use the tickers for the member’s stock and bond holdings.\n",
    "\n",
    "- `timeframe`: Use a time frame of one day.\n",
    "\n",
    "- `start_date` and `end_date`: Use the same date for these parameters, and format them with the date of the previous weekday (or `2020-08-07`). This is because you want the one closing price for the most-recent trading day.\n"
   ]
  },
  {
   "cell_type": "code",
   "execution_count": 34,
   "metadata": {},
   "outputs": [],
   "source": [
    "# Set the tickers for both the bond and stock portion of the portfolio\n",
    "tickers = [\"SPY\",\"AGG\"]\n",
    "\n",
    "# Set timeframe to 1D \n",
    "timeframe = TimeFrame.Day\n",
    "\n",
    "# Format current date as ISO format\n",
    "# Set both the start and end date at the date of your prior weekday \n",
    "# This will give you the closing price of the previous trading day\n",
    "# Alternatively you can use a start and end date of 2020-08-07\n",
    "start_date = pd.Timestamp(\"2022-03-11\", tz=\"America/New_York\").isoformat()\n",
    "end_date = pd.Timestamp(\"2022-03-11\", tz=\"America/New_York\").isoformat()\n"
   ]
  },
  {
   "cell_type": "markdown",
   "metadata": {},
   "source": [
    "#### Step 4: Get the current closing prices for `SPY` and `AGG` by using the Alpaca `get_barset` function. Format the response as a Pandas DataFrame by including the `df` property at the end of the `get_barset` function."
   ]
  },
  {
   "cell_type": "markdown",
   "metadata": {},
   "source": [
    "**NOTE**  \n",
    "The `get_barset()` function used in this challenge is deprecated in Alpaca. The recommended alternative is `get_bars()` which I've done here. The two responses are in different formats, so I wrote the following function to handle the conversion, which will be used in the Monte Carlo simulation later in this exercise. "
   ]
  },
  {
   "cell_type": "code",
   "execution_count": 66,
   "metadata": {},
   "outputs": [
    {
     "name": "stdout",
     "output_type": "stream",
     "text": [
      "getting SPY...\n",
      "getting AGG...\n"
     ]
    },
    {
     "data": {
      "text/html": [
       "<div>\n",
       "<style scoped>\n",
       "    .dataframe tbody tr th:only-of-type {\n",
       "        vertical-align: middle;\n",
       "    }\n",
       "\n",
       "    .dataframe tbody tr th {\n",
       "        vertical-align: top;\n",
       "    }\n",
       "\n",
       "    .dataframe thead tr th {\n",
       "        text-align: left;\n",
       "    }\n",
       "</style>\n",
       "<table border=\"1\" class=\"dataframe\">\n",
       "  <thead>\n",
       "    <tr>\n",
       "      <th></th>\n",
       "      <th colspan=\"7\" halign=\"left\">SPY</th>\n",
       "      <th colspan=\"7\" halign=\"left\">AGG</th>\n",
       "    </tr>\n",
       "    <tr>\n",
       "      <th></th>\n",
       "      <th>open</th>\n",
       "      <th>high</th>\n",
       "      <th>low</th>\n",
       "      <th>close</th>\n",
       "      <th>volume</th>\n",
       "      <th>trade_count</th>\n",
       "      <th>vwap</th>\n",
       "      <th>open</th>\n",
       "      <th>high</th>\n",
       "      <th>low</th>\n",
       "      <th>close</th>\n",
       "      <th>volume</th>\n",
       "      <th>trade_count</th>\n",
       "      <th>vwap</th>\n",
       "    </tr>\n",
       "  </thead>\n",
       "  <tbody>\n",
       "    <tr>\n",
       "      <th>2022-03-11</th>\n",
       "      <td>428.18</td>\n",
       "      <td>428.77</td>\n",
       "      <td>419.53</td>\n",
       "      <td>420.07</td>\n",
       "      <td>90803923</td>\n",
       "      <td>809145</td>\n",
       "      <td>424.040193</td>\n",
       "      <td>108.44</td>\n",
       "      <td>108.55</td>\n",
       "      <td>108.34</td>\n",
       "      <td>108.41</td>\n",
       "      <td>10662625</td>\n",
       "      <td>29475</td>\n",
       "      <td>108.421874</td>\n",
       "    </tr>\n",
       "  </tbody>\n",
       "</table>\n",
       "</div>"
      ],
      "text/plain": [
       "               SPY                                                            \\\n",
       "              open    high     low   close    volume trade_count        vwap   \n",
       "2022-03-11  428.18  428.77  419.53  420.07  90803923      809145  424.040193   \n",
       "\n",
       "               AGG                                                            \n",
       "              open    high     low   close    volume trade_count        vwap  \n",
       "2022-03-11  108.44  108.55  108.34  108.41  10662625       29475  108.421874  "
      ]
     },
     "execution_count": 66,
     "metadata": {},
     "output_type": "execute_result"
    }
   ],
   "source": [
    "def getBarsConvertToMultiIndex(limit_rows=None):\n",
    "    df_dict = {}\n",
    "    master_df = pd.DataFrame()\n",
    "    \n",
    "    for ticker in tickers:\n",
    "        #api call\n",
    "        prices_df = alpaca.get_bars(\n",
    "        ticker,\n",
    "        timeframe,\n",
    "        start = start_date,\n",
    "        end = end_date,\n",
    "        adjustment='raw',\n",
    "        limit=limit_rows\n",
    "        ).df\n",
    "        print(f\"getting {ticker}...\")\n",
    "        \n",
    "        #make df multiindex using ticker as higher index\n",
    "        column_names = [(ticker, x) for x in prices_df.columns]\n",
    "        prices_df.columns = pd.MultiIndex.from_tuples(column_names)\n",
    "        df_dict[ticker] = prices_df\n",
    "        \n",
    "    # Concat dfs\n",
    "    for i in range(len(tickers)):\n",
    "        if i == 0:\n",
    "            master_df = df_dict[tickers[i]] \n",
    "        else:\n",
    "            master_df = pd.concat([master_df, df_dict[tickers[i]]], axis=\"columns\", join=\"inner\")\n",
    "            \n",
    "    return master_df\n",
    "\n",
    "prices_df = getBarsConvertToMultiIndex()\n",
    "\n",
    "prices_df.index = prices_df.index.date\n",
    "prices_df"
   ]
  },
  {
   "cell_type": "code",
   "execution_count": null,
   "metadata": {},
   "outputs": [],
   "source": [
    "# Use the Alpaca get_barset function to get current closing prices the portfolio\n",
    "# Be sure to set the `df` property after the function to format the response object as a DataFrame\n",
    "# YOUR CODE HERE\n",
    "\n",
    "# Review the first 5 rows of the Alpaca DataFrame\n",
    "# YOUR CODE HERE\n"
   ]
  },
  {
   "cell_type": "markdown",
   "metadata": {},
   "source": [
    "#### Step 5: Navigating the Alpaca response DataFrame, select the `SPY` and `AGG` closing prices, and store them as variables."
   ]
  },
  {
   "cell_type": "code",
   "execution_count": 41,
   "metadata": {},
   "outputs": [
    {
     "data": {
      "text/plain": [
       "2022-03-11    108.41\n",
       "Name: close, dtype: float64"
      ]
     },
     "execution_count": 41,
     "metadata": {},
     "output_type": "execute_result"
    }
   ],
   "source": [
    "# Access the closing price for AGG from the Alpaca DataFrame\n",
    "# Converting the value to a floating point number\n",
    "agg_close_price = prices_df[\"AGG\"][\"close\"]\n",
    "\n",
    "# Print the AGG closing price\n",
    "agg_close_price"
   ]
  },
  {
   "cell_type": "code",
   "execution_count": 42,
   "metadata": {},
   "outputs": [
    {
     "data": {
      "text/plain": [
       "2022-03-11    420.07\n",
       "Name: close, dtype: float64"
      ]
     },
     "execution_count": 42,
     "metadata": {},
     "output_type": "execute_result"
    }
   ],
   "source": [
    "# Access the closing price for SPY from the Alpaca DataFrame\n",
    "# Converting the value to a floating point number\n",
    "spy_close_price = prices_df[\"SPY\"][\"close\"]\n",
    "\n",
    "# Print the SPY closing price\n",
    "spy_close_price\n"
   ]
  },
  {
   "cell_type": "markdown",
   "metadata": {},
   "source": [
    "#### Step 6: Calculate the value, in US dollars, of the current amount of shares in each of the stock and bond portions of the portfolio, and print the results."
   ]
  },
  {
   "cell_type": "code",
   "execution_count": 49,
   "metadata": {},
   "outputs": [
    {
     "data": {
      "text/plain": [
       "21682.0"
      ]
     },
     "execution_count": 49,
     "metadata": {},
     "output_type": "execute_result"
    }
   ],
   "source": [
    "# Calculate the current value of the bond portion of the portfolio\n",
    "agg_value = agg_close_price *agg_shares\n",
    "\n",
    "# Print the current value of the bond portfolio\n",
    "agg_value[0]"
   ]
  },
  {
   "cell_type": "code",
   "execution_count": 48,
   "metadata": {},
   "outputs": [
    {
     "data": {
      "text/plain": [
       "46207.7"
      ]
     },
     "execution_count": 48,
     "metadata": {},
     "output_type": "execute_result"
    }
   ],
   "source": [
    "# Calculate the current value of the stock portion of the portfolio\n",
    "spy_value = spy_close_price * spy_shares\n",
    "\n",
    "# Print the current value of the stock portfolio\n",
    "spy_value[0]"
   ]
  },
  {
   "cell_type": "code",
   "execution_count": 47,
   "metadata": {},
   "outputs": [
    {
     "data": {
      "text/plain": [
       "67889.7"
      ]
     },
     "execution_count": 47,
     "metadata": {},
     "output_type": "execute_result"
    }
   ],
   "source": [
    "# Calculate the total value of the stock and bond portion of the portfolio\n",
    "total_stocks_bonds = agg_value + spy_value\n",
    "\n",
    "# Print the current balance of the stock and bond portion of the portfolio\n",
    "total_stocks_bonds[0]"
   ]
  },
  {
   "cell_type": "code",
   "execution_count": 51,
   "metadata": {},
   "outputs": [
    {
     "data": {
      "text/plain": [
       "133911.179"
      ]
     },
     "execution_count": 51,
     "metadata": {},
     "output_type": "execute_result"
    }
   ],
   "source": [
    "# Calculate the total value of the member's entire savings portfolio\n",
    "# Add the value of the cryptocurrency wallet to the value of the total stocks and bonds\n",
    "total_portfolio = total_stocks_bonds[0] + total_crypto_wallet\n",
    "\n",
    "total_portfolio\n",
    "\n"
   ]
  },
  {
   "cell_type": "markdown",
   "metadata": {},
   "source": [
    "### Evaluate the Emergency Fund\n",
    "\n",
    "In this section, you’ll use the valuations for the cryptocurrency wallet and for the stock and bond portions of the portfolio to determine if the credit union member has enough savings to build an emergency fund into their financial plan. To do this, complete the following steps:\n",
    "\n",
    "1. Create a Python list named `savings_data` that has two elements. The first element contains the total value of the cryptocurrency wallet. The second element contains the total value of the stock and bond portions of the portfolio.\n",
    "\n",
    "2. Use the `savings_data` list to create a Pandas DataFrame named `savings_df`, and then display this DataFrame. The function to create the DataFrame should take the following three parameters:\n",
    "\n",
    "    - `savings_data`: Use the list that you just created.\n",
    "\n",
    "    - `columns`: Set this parameter equal to a Python list with a single value called `amount`.\n",
    "\n",
    "    - `index`: Set this parameter equal to a Python list with the values of `crypto` and `stock/bond`.\n",
    "\n",
    "3. Use the `savings_df` DataFrame to plot a pie chart that visualizes the composition of the member’s portfolio. The y-axis of the pie chart uses `amount`. Be sure to add a title.\n",
    "\n",
    "4. Using Python, determine if the current portfolio has enough to create an emergency fund as part of the member’s financial plan. Ideally, an emergency fund should equal to three times the member’s monthly income. To do this, implement the following steps:\n",
    "\n",
    "    1. Create a variable named `emergency_fund_value`, and set it equal to three times the value of the member’s `monthly_income` of $12000. (You set this earlier in Part 1).\n",
    "\n",
    "    2. Create a series of three if statements to determine if the member’s total portfolio is large enough to fund the emergency portfolio:\n",
    "\n",
    "        1. If the total portfolio value is greater than the emergency fund value, display a message congratulating the member for having enough money in this fund.\n",
    "\n",
    "        2. Else if the total portfolio value is equal to the emergency fund value, display a message congratulating the member on reaching this important financial goal.\n",
    "\n",
    "        3. Else the total portfolio is less than the emergency fund value, so display a message showing how many dollars away the member is from reaching the goal. (Subtract the total portfolio value from the emergency fund value.)\n"
   ]
  },
  {
   "cell_type": "markdown",
   "metadata": {},
   "source": [
    "#### Step 1: Create a Python list named `savings_data` that has two elements. The first element contains the total value of the cryptocurrency wallet. The second element contains the total value of the stock and bond portions of the portfolio."
   ]
  },
  {
   "cell_type": "code",
   "execution_count": 52,
   "metadata": {},
   "outputs": [
    {
     "data": {
      "text/plain": [
       "[66021.47899999999, 67889.7]"
      ]
     },
     "execution_count": 52,
     "metadata": {},
     "output_type": "execute_result"
    }
   ],
   "source": [
    "# Consolidate financial assets data into a Python list\n",
    "savings_data = [total_crypto_wallet,total_stocks_bonds[0]]\n",
    "# Review the Python list savings_data\n",
    "savings_data\n",
    "    "
   ]
  },
  {
   "cell_type": "markdown",
   "metadata": {},
   "source": [
    "#### Step 2: Use the `savings_data` list to create a Pandas DataFrame named `savings_df`, and then display this DataFrame. The function to create the DataFrame should take the following three parameters:\n",
    "\n",
    "- `savings_data`: Use the list that you just created.\n",
    "\n",
    "- `columns`: Set this parameter equal to a Python list with a single value called `amount`.\n",
    "\n",
    "- `index`: Set this parameter equal to a Python list with the values of `crypto` and `stock/bond`.\n"
   ]
  },
  {
   "cell_type": "code",
   "execution_count": 57,
   "metadata": {},
   "outputs": [
    {
     "data": {
      "text/html": [
       "<div>\n",
       "<style scoped>\n",
       "    .dataframe tbody tr th:only-of-type {\n",
       "        vertical-align: middle;\n",
       "    }\n",
       "\n",
       "    .dataframe tbody tr th {\n",
       "        vertical-align: top;\n",
       "    }\n",
       "\n",
       "    .dataframe thead th {\n",
       "        text-align: right;\n",
       "    }\n",
       "</style>\n",
       "<table border=\"1\" class=\"dataframe\">\n",
       "  <thead>\n",
       "    <tr style=\"text-align: right;\">\n",
       "      <th></th>\n",
       "      <th>amount</th>\n",
       "    </tr>\n",
       "  </thead>\n",
       "  <tbody>\n",
       "    <tr>\n",
       "      <th>crypto</th>\n",
       "      <td>66021.479</td>\n",
       "    </tr>\n",
       "    <tr>\n",
       "      <th>stock_bond</th>\n",
       "      <td>67889.700</td>\n",
       "    </tr>\n",
       "  </tbody>\n",
       "</table>\n",
       "</div>"
      ],
      "text/plain": [
       "               amount\n",
       "crypto      66021.479\n",
       "stock_bond  67889.700"
      ]
     },
     "execution_count": 57,
     "metadata": {},
     "output_type": "execute_result"
    }
   ],
   "source": [
    "# Create a Pandas DataFrame called savings_df \n",
    "savings_df = pd.DataFrame(savings_data, index=[\"crypto\",\"stock_bond\"],columns=[\"amount\"])\n",
    "\n",
    "# Display the savings_df DataFrame\n",
    "savings_df\n"
   ]
  },
  {
   "cell_type": "markdown",
   "metadata": {},
   "source": [
    "#### Step 3: Use the `savings_df` DataFrame to plot a pie chart that visualizes the composition of the member’s portfolio. The y-axis of the pie chart uses `amount`. Be sure to add a title."
   ]
  },
  {
   "cell_type": "code",
   "execution_count": 62,
   "metadata": {},
   "outputs": [
    {
     "data": {
      "text/plain": [
       "<AxesSubplot:title={'center':'Portfolio balance'}, ylabel='amount'>"
      ]
     },
     "execution_count": 62,
     "metadata": {},
     "output_type": "execute_result"
    },
    {
     "data": {
      "image/png": "[encoded data removed]",
      "text/plain": [
       "<Figure size 1080x504 with 1 Axes>"
      ]
     },
     "metadata": {},
     "output_type": "display_data"
    }
   ],
   "source": [
    "# Plot the total value of the member's portfolio (crypto and stock/bond) in a pie chart\n",
    "savings_df.plot.pie(title=\"Portfolio balance\", y=\"amount\",figsize=(15,7))"
   ]
  },
  {
   "cell_type": "markdown",
   "metadata": {},
   "source": [
    "#### Step 4: Using Python, determine if the current portfolio has enough to create an emergency fund as part of the member’s financial plan. Ideally, an emergency fund should equal to three times the member’s monthly income. To do this, implement the following steps:\n",
    "\n",
    "Step 1. Create a variable named `emergency_fund_value`, and set it equal to three times the value of the member’s `monthly_income` of 12000. (You set this earlier in Part 1).\n",
    "\n",
    "Step 2. Create a series of three if statements to determine if the member’s total portfolio is large enough to fund the emergency portfolio:\n",
    "\n",
    "* If the total portfolio value is greater than the emergency fund value, display a message congratulating the member for having enough money in this fund.\n",
    "\n",
    "* Else if the total portfolio value is equal to the emergency fund value, display a message congratulating the member on reaching this important financial goal.\n",
    "\n",
    "* Else the total portfolio is less than the emergency fund value, so display a message showing how many dollars away the member is from reaching the goal. (Subtract the total portfolio value from the emergency fund value.)\n"
   ]
  },
  {
   "cell_type": "markdown",
   "metadata": {},
   "source": [
    "##### Step 4-1: Create a variable named `emergency_fund_value`, and set it equal to three times the value of the member’s `monthly_income` of 12000. (You set this earlier in Part 1)."
   ]
  },
  {
   "cell_type": "code",
   "execution_count": 63,
   "metadata": {},
   "outputs": [],
   "source": [
    "# Create a variable named emergency_fund_value\n",
    "emergency_fund_value = monthly_income * 3\n"
   ]
  },
  {
   "cell_type": "markdown",
   "metadata": {},
   "source": [
    "##### Step 4-2: Create a series of three if statements to determine if the member’s total portfolio is large enough to fund the emergency portfolio:\n",
    "\n",
    "* If the total portfolio value is greater than the emergency fund value, display a message congratulating the member for having enough money in this fund.\n",
    "\n",
    "* Else if the total portfolio value is equal to the emergency fund value, display a message congratulating the member on reaching this important financial goal.\n",
    "\n",
    "* Else the total portfolio is less than the emergency fund value, so display a message showing how many dollars away the member is from reaching the goal. (Subtract the total portfolio value from the emergency fund value.)"
   ]
  },
  {
   "cell_type": "code",
   "execution_count": 64,
   "metadata": {},
   "outputs": [
    {
     "name": "stdout",
     "output_type": "stream",
     "text": [
      "Emergency fund is over allocated by 97911.179\n"
     ]
    }
   ],
   "source": [
    "# Evaluate the possibility of creating an emergency fund with 3 conditions:\n",
    "if total_portfolio > emergency_fund_value:\n",
    "    print(f\"Emergency fund is over allocated by {total_portfolio-emergency_fund_value}\")\n",
    "elif total_portfolio == emergency_fund_value:\n",
    "    print(\"Emergency fund is at target\")\n",
    "else:\n",
    "    print(f\"Emergency fund is under allocated by {emergency_fund_value-total_portfolio}\")\n"
   ]
  },
  {
   "cell_type": "markdown",
   "metadata": {},
   "source": [
    "## Part 2: Create a Financial Planner for Retirement"
   ]
  },
  {
   "cell_type": "markdown",
   "metadata": {},
   "source": [
    "### Create the Monte Carlo Simulation\n",
    "\n",
    "In this section, you’ll use the MCForecastTools library to create a Monte Carlo simulation for the member’s savings portfolio. To do this, complete the following steps:\n",
    "\n",
    "1. Make an API call via the Alpaca SDK to get 3 years of historical closing prices for a traditional 60/40 portfolio split: 60% stocks (SPY) and 40% bonds (AGG).\n",
    "\n",
    "2. Run a Monte Carlo simulation of 500 samples and 30 years for the 60/40 portfolio, and then plot the results.The following image shows the overlay line plot resulting from a simulation with these characteristics. However, because a random number generator is used to run each live Monte Carlo simulation, your image will differ slightly from this exact image:\n",
    "\n",
    "![A screenshot depicts the resulting plot.](Images/5-4-monte-carlo-line-plot.png)\n",
    "\n",
    "3. Plot the probability distribution of the Monte Carlo simulation. Plot the probability distribution of the Monte Carlo simulation. The following image shows the histogram plot resulting from a simulation with these characteristics. However, because a random number generator is used to run each live Monte Carlo simulation, your image will differ slightly from this exact image:\n",
    "\n",
    "![A screenshot depicts the histogram plot.](Images/5-4-monte-carlo-histogram.png)\n",
    "\n",
    "4. Generate the summary statistics for the Monte Carlo simulation.\n",
    "\n"
   ]
  },
  {
   "cell_type": "markdown",
   "metadata": {},
   "source": [
    "#### Step 1: Make an API call via the Alpaca SDK to get 3 years of historical closing prices for a traditional 60/40 portfolio split: 60% stocks (SPY) and 40% bonds (AGG)."
   ]
  },
  {
   "cell_type": "code",
   "execution_count": 67,
   "metadata": {},
   "outputs": [],
   "source": [
    "# Set start and end dates of 3 years back from your current date\n",
    "# Alternatively, you can use an end date of 2020-08-07 and work 3 years back from that date \n",
    "start_date = pd.Timestamp(\"2019-03-11\", tz=\"America/New_York\").isoformat()\n",
    "end_date = pd.Timestamp(\"2022-03-11\", tz=\"America/New_York\").isoformat()\n",
    "\n",
    "# Set number of rows to 1000 to retrieve the maximum amount of rows\n",
    "limit_rows = 1000"
   ]
  },
  {
   "cell_type": "code",
   "execution_count": 69,
   "metadata": {},
   "outputs": [
    {
     "name": "stdout",
     "output_type": "stream",
     "text": [
      "getting SPY...\n",
      "getting AGG...\n"
     ]
    },
    {
     "data": {
      "text/html": [
       "<div>\n",
       "<style scoped>\n",
       "    .dataframe tbody tr th:only-of-type {\n",
       "        vertical-align: middle;\n",
       "    }\n",
       "\n",
       "    .dataframe tbody tr th {\n",
       "        vertical-align: top;\n",
       "    }\n",
       "\n",
       "    .dataframe thead tr th {\n",
       "        text-align: left;\n",
       "    }\n",
       "\n",
       "    .dataframe thead tr:last-of-type th {\n",
       "        text-align: right;\n",
       "    }\n",
       "</style>\n",
       "<table border=\"1\" class=\"dataframe\">\n",
       "  <thead>\n",
       "    <tr>\n",
       "      <th></th>\n",
       "      <th colspan=\"7\" halign=\"left\">SPY</th>\n",
       "      <th colspan=\"7\" halign=\"left\">AGG</th>\n",
       "    </tr>\n",
       "    <tr>\n",
       "      <th></th>\n",
       "      <th>open</th>\n",
       "      <th>high</th>\n",
       "      <th>low</th>\n",
       "      <th>close</th>\n",
       "      <th>volume</th>\n",
       "      <th>trade_count</th>\n",
       "      <th>vwap</th>\n",
       "      <th>open</th>\n",
       "      <th>high</th>\n",
       "      <th>low</th>\n",
       "      <th>close</th>\n",
       "      <th>volume</th>\n",
       "      <th>trade_count</th>\n",
       "      <th>vwap</th>\n",
       "    </tr>\n",
       "    <tr>\n",
       "      <th>timestamp</th>\n",
       "      <th></th>\n",
       "      <th></th>\n",
       "      <th></th>\n",
       "      <th></th>\n",
       "      <th></th>\n",
       "      <th></th>\n",
       "      <th></th>\n",
       "      <th></th>\n",
       "      <th></th>\n",
       "      <th></th>\n",
       "      <th></th>\n",
       "      <th></th>\n",
       "      <th></th>\n",
       "      <th></th>\n",
       "    </tr>\n",
       "  </thead>\n",
       "  <tbody>\n",
       "    <tr>\n",
       "      <th>2019-03-11 04:00:00+00:00</th>\n",
       "      <td>275.32</td>\n",
       "      <td>278.6200</td>\n",
       "      <td>275.2300</td>\n",
       "      <td>278.48</td>\n",
       "      <td>65294048</td>\n",
       "      <td>291889</td>\n",
       "      <td>277.616552</td>\n",
       "      <td>107.44</td>\n",
       "      <td>107.4700</td>\n",
       "      <td>107.35</td>\n",
       "      <td>107.44</td>\n",
       "      <td>5638443</td>\n",
       "      <td>13038</td>\n",
       "      <td>107.419866</td>\n",
       "    </tr>\n",
       "    <tr>\n",
       "      <th>2019-03-12 04:00:00+00:00</th>\n",
       "      <td>279.05</td>\n",
       "      <td>280.0700</td>\n",
       "      <td>278.8500</td>\n",
       "      <td>279.44</td>\n",
       "      <td>79864066</td>\n",
       "      <td>279077</td>\n",
       "      <td>279.342632</td>\n",
       "      <td>107.50</td>\n",
       "      <td>107.6685</td>\n",
       "      <td>107.43</td>\n",
       "      <td>107.64</td>\n",
       "      <td>5243350</td>\n",
       "      <td>11188</td>\n",
       "      <td>107.552960</td>\n",
       "    </tr>\n",
       "    <tr>\n",
       "      <th>2019-03-13 04:00:00+00:00</th>\n",
       "      <td>280.49</td>\n",
       "      <td>283.3052</td>\n",
       "      <td>280.3000</td>\n",
       "      <td>281.33</td>\n",
       "      <td>81854673</td>\n",
       "      <td>300658</td>\n",
       "      <td>281.147789</td>\n",
       "      <td>107.56</td>\n",
       "      <td>107.6100</td>\n",
       "      <td>107.51</td>\n",
       "      <td>107.59</td>\n",
       "      <td>2608927</td>\n",
       "      <td>10440</td>\n",
       "      <td>107.575730</td>\n",
       "    </tr>\n",
       "    <tr>\n",
       "      <th>2019-03-14 04:00:00+00:00</th>\n",
       "      <td>281.33</td>\n",
       "      <td>281.8400</td>\n",
       "      <td>280.6662</td>\n",
       "      <td>281.20</td>\n",
       "      <td>69842399</td>\n",
       "      <td>249032</td>\n",
       "      <td>281.287653</td>\n",
       "      <td>107.57</td>\n",
       "      <td>107.5800</td>\n",
       "      <td>107.39</td>\n",
       "      <td>107.43</td>\n",
       "      <td>2955425</td>\n",
       "      <td>9778</td>\n",
       "      <td>107.479354</td>\n",
       "    </tr>\n",
       "    <tr>\n",
       "      <th>2019-03-15 04:00:00+00:00</th>\n",
       "      <td>280.59</td>\n",
       "      <td>282.2100</td>\n",
       "      <td>280.3300</td>\n",
       "      <td>281.34</td>\n",
       "      <td>82619175</td>\n",
       "      <td>308447</td>\n",
       "      <td>281.197459</td>\n",
       "      <td>107.65</td>\n",
       "      <td>107.7396</td>\n",
       "      <td>107.57</td>\n",
       "      <td>107.70</td>\n",
       "      <td>2757416</td>\n",
       "      <td>11232</td>\n",
       "      <td>107.655037</td>\n",
       "    </tr>\n",
       "  </tbody>\n",
       "</table>\n",
       "</div>"
      ],
      "text/plain": [
       "                              SPY                                        \\\n",
       "                             open      high       low   close    volume   \n",
       "timestamp                                                                 \n",
       "2019-03-11 04:00:00+00:00  275.32  278.6200  275.2300  278.48  65294048   \n",
       "2019-03-12 04:00:00+00:00  279.05  280.0700  278.8500  279.44  79864066   \n",
       "2019-03-13 04:00:00+00:00  280.49  283.3052  280.3000  281.33  81854673   \n",
       "2019-03-14 04:00:00+00:00  281.33  281.8400  280.6662  281.20  69842399   \n",
       "2019-03-15 04:00:00+00:00  280.59  282.2100  280.3300  281.34  82619175   \n",
       "\n",
       "                                                      AGG                    \\\n",
       "                          trade_count        vwap    open      high     low   \n",
       "timestamp                                                                     \n",
       "2019-03-11 04:00:00+00:00      291889  277.616552  107.44  107.4700  107.35   \n",
       "2019-03-12 04:00:00+00:00      279077  279.342632  107.50  107.6685  107.43   \n",
       "2019-03-13 04:00:00+00:00      300658  281.147789  107.56  107.6100  107.51   \n",
       "2019-03-14 04:00:00+00:00      249032  281.287653  107.57  107.5800  107.39   \n",
       "2019-03-15 04:00:00+00:00      308447  281.197459  107.65  107.7396  107.57   \n",
       "\n",
       "                                                                    \n",
       "                            close   volume trade_count        vwap  \n",
       "timestamp                                                           \n",
       "2019-03-11 04:00:00+00:00  107.44  5638443       13038  107.419866  \n",
       "2019-03-12 04:00:00+00:00  107.64  5243350       11188  107.552960  \n",
       "2019-03-13 04:00:00+00:00  107.59  2608927       10440  107.575730  \n",
       "2019-03-14 04:00:00+00:00  107.43  2955425        9778  107.479354  \n",
       "2019-03-15 04:00:00+00:00  107.70  2757416       11232  107.655037  "
      ]
     },
     "metadata": {},
     "output_type": "display_data"
    },
    {
     "data": {
      "text/html": [
       "<div>\n",
       "<style scoped>\n",
       "    .dataframe tbody tr th:only-of-type {\n",
       "        vertical-align: middle;\n",
       "    }\n",
       "\n",
       "    .dataframe tbody tr th {\n",
       "        vertical-align: top;\n",
       "    }\n",
       "\n",
       "    .dataframe thead tr th {\n",
       "        text-align: left;\n",
       "    }\n",
       "\n",
       "    .dataframe thead tr:last-of-type th {\n",
       "        text-align: right;\n",
       "    }\n",
       "</style>\n",
       "<table border=\"1\" class=\"dataframe\">\n",
       "  <thead>\n",
       "    <tr>\n",
       "      <th></th>\n",
       "      <th colspan=\"7\" halign=\"left\">SPY</th>\n",
       "      <th colspan=\"7\" halign=\"left\">AGG</th>\n",
       "    </tr>\n",
       "    <tr>\n",
       "      <th></th>\n",
       "      <th>open</th>\n",
       "      <th>high</th>\n",
       "      <th>low</th>\n",
       "      <th>close</th>\n",
       "      <th>volume</th>\n",
       "      <th>trade_count</th>\n",
       "      <th>vwap</th>\n",
       "      <th>open</th>\n",
       "      <th>high</th>\n",
       "      <th>low</th>\n",
       "      <th>close</th>\n",
       "      <th>volume</th>\n",
       "      <th>trade_count</th>\n",
       "      <th>vwap</th>\n",
       "    </tr>\n",
       "    <tr>\n",
       "      <th>timestamp</th>\n",
       "      <th></th>\n",
       "      <th></th>\n",
       "      <th></th>\n",
       "      <th></th>\n",
       "      <th></th>\n",
       "      <th></th>\n",
       "      <th></th>\n",
       "      <th></th>\n",
       "      <th></th>\n",
       "      <th></th>\n",
       "      <th></th>\n",
       "      <th></th>\n",
       "      <th></th>\n",
       "      <th></th>\n",
       "    </tr>\n",
       "  </thead>\n",
       "  <tbody>\n",
       "    <tr>\n",
       "      <th>2022-03-07 05:00:00+00:00</th>\n",
       "      <td>431.440</td>\n",
       "      <td>432.3018</td>\n",
       "      <td>419.36</td>\n",
       "      <td>419.43</td>\n",
       "      <td>131262026</td>\n",
       "      <td>1390460</td>\n",
       "      <td>424.067609</td>\n",
       "      <td>109.85</td>\n",
       "      <td>110.1400</td>\n",
       "      <td>109.6400</td>\n",
       "      <td>109.66</td>\n",
       "      <td>12474681</td>\n",
       "      <td>35203</td>\n",
       "      <td>109.871205</td>\n",
       "    </tr>\n",
       "    <tr>\n",
       "      <th>2022-03-08 05:00:00+00:00</th>\n",
       "      <td>419.725</td>\n",
       "      <td>427.2100</td>\n",
       "      <td>415.12</td>\n",
       "      <td>416.25</td>\n",
       "      <td>158890009</td>\n",
       "      <td>1864071</td>\n",
       "      <td>419.755053</td>\n",
       "      <td>109.23</td>\n",
       "      <td>109.3301</td>\n",
       "      <td>109.1201</td>\n",
       "      <td>109.27</td>\n",
       "      <td>8639904</td>\n",
       "      <td>25293</td>\n",
       "      <td>109.234523</td>\n",
       "    </tr>\n",
       "    <tr>\n",
       "      <th>2022-03-09 05:00:00+00:00</th>\n",
       "      <td>425.160</td>\n",
       "      <td>429.5100</td>\n",
       "      <td>422.83</td>\n",
       "      <td>427.41</td>\n",
       "      <td>110780810</td>\n",
       "      <td>1086809</td>\n",
       "      <td>426.130400</td>\n",
       "      <td>109.09</td>\n",
       "      <td>109.2090</td>\n",
       "      <td>108.9300</td>\n",
       "      <td>109.04</td>\n",
       "      <td>9873754</td>\n",
       "      <td>29005</td>\n",
       "      <td>109.058720</td>\n",
       "    </tr>\n",
       "    <tr>\n",
       "      <th>2022-03-10 05:00:00+00:00</th>\n",
       "      <td>422.730</td>\n",
       "      <td>426.4300</td>\n",
       "      <td>420.44</td>\n",
       "      <td>425.48</td>\n",
       "      <td>91933914</td>\n",
       "      <td>891241</td>\n",
       "      <td>423.871044</td>\n",
       "      <td>108.65</td>\n",
       "      <td>108.6800</td>\n",
       "      <td>108.2500</td>\n",
       "      <td>108.43</td>\n",
       "      <td>13646915</td>\n",
       "      <td>42329</td>\n",
       "      <td>108.417461</td>\n",
       "    </tr>\n",
       "    <tr>\n",
       "      <th>2022-03-11 05:00:00+00:00</th>\n",
       "      <td>428.180</td>\n",
       "      <td>428.7700</td>\n",
       "      <td>419.53</td>\n",
       "      <td>420.07</td>\n",
       "      <td>90803923</td>\n",
       "      <td>809145</td>\n",
       "      <td>424.040193</td>\n",
       "      <td>108.44</td>\n",
       "      <td>108.5500</td>\n",
       "      <td>108.3400</td>\n",
       "      <td>108.41</td>\n",
       "      <td>10662625</td>\n",
       "      <td>29475</td>\n",
       "      <td>108.421874</td>\n",
       "    </tr>\n",
       "  </tbody>\n",
       "</table>\n",
       "</div>"
      ],
      "text/plain": [
       "                               SPY                                       \\\n",
       "                              open      high     low   close     volume   \n",
       "timestamp                                                                 \n",
       "2022-03-07 05:00:00+00:00  431.440  432.3018  419.36  419.43  131262026   \n",
       "2022-03-08 05:00:00+00:00  419.725  427.2100  415.12  416.25  158890009   \n",
       "2022-03-09 05:00:00+00:00  425.160  429.5100  422.83  427.41  110780810   \n",
       "2022-03-10 05:00:00+00:00  422.730  426.4300  420.44  425.48   91933914   \n",
       "2022-03-11 05:00:00+00:00  428.180  428.7700  419.53  420.07   90803923   \n",
       "\n",
       "                                                      AGG                      \\\n",
       "                          trade_count        vwap    open      high       low   \n",
       "timestamp                                                                       \n",
       "2022-03-07 05:00:00+00:00     1390460  424.067609  109.85  110.1400  109.6400   \n",
       "2022-03-08 05:00:00+00:00     1864071  419.755053  109.23  109.3301  109.1201   \n",
       "2022-03-09 05:00:00+00:00     1086809  426.130400  109.09  109.2090  108.9300   \n",
       "2022-03-10 05:00:00+00:00      891241  423.871044  108.65  108.6800  108.2500   \n",
       "2022-03-11 05:00:00+00:00      809145  424.040193  108.44  108.5500  108.3400   \n",
       "\n",
       "                                                                     \n",
       "                            close    volume trade_count        vwap  \n",
       "timestamp                                                            \n",
       "2022-03-07 05:00:00+00:00  109.66  12474681       35203  109.871205  \n",
       "2022-03-08 05:00:00+00:00  109.27   8639904       25293  109.234523  \n",
       "2022-03-09 05:00:00+00:00  109.04   9873754       29005  109.058720  \n",
       "2022-03-10 05:00:00+00:00  108.43  13646915       42329  108.417461  \n",
       "2022-03-11 05:00:00+00:00  108.41  10662625       29475  108.421874  "
      ]
     },
     "metadata": {},
     "output_type": "display_data"
    }
   ],
   "source": [
    "# Use the Alpaca get_barset function to make the API call to get the 3 years worth of pricing data\n",
    "# The tickers and timeframe parameters should have been set in Part 1 of this activity \n",
    "# The start and end dates should be updated with the information set above\n",
    "# Remember to add the df property to the end of the call so the response is returned as a DataFrame\n",
    "spy_agg_3y = getBarsConvertToMultiIndex(limit_rows)\n",
    "\n",
    "# Display both the first and last five rows of the DataFrame\n",
    "display(spy_agg_3y.head())\n",
    "display(spy_agg_3y.tail())\n"
   ]
  },
  {
   "cell_type": "markdown",
   "metadata": {},
   "source": [
    "#### Step 2: Run a Monte Carlo simulation of 500 samples and 30 years for the 60/40 portfolio, and then plot the results."
   ]
  },
  {
   "cell_type": "code",
   "execution_count": 81,
   "metadata": {},
   "outputs": [
    {
     "data": {
      "text/html": [
       "<div>\n",
       "<style scoped>\n",
       "    .dataframe tbody tr th:only-of-type {\n",
       "        vertical-align: middle;\n",
       "    }\n",
       "\n",
       "    .dataframe tbody tr th {\n",
       "        vertical-align: top;\n",
       "    }\n",
       "\n",
       "    .dataframe thead tr th {\n",
       "        text-align: left;\n",
       "    }\n",
       "\n",
       "    .dataframe thead tr:last-of-type th {\n",
       "        text-align: right;\n",
       "    }\n",
       "</style>\n",
       "<table border=\"1\" class=\"dataframe\">\n",
       "  <thead>\n",
       "    <tr>\n",
       "      <th></th>\n",
       "      <th colspan=\"8\" halign=\"left\">SPY</th>\n",
       "      <th colspan=\"8\" halign=\"left\">AGG</th>\n",
       "    </tr>\n",
       "    <tr>\n",
       "      <th></th>\n",
       "      <th>open</th>\n",
       "      <th>high</th>\n",
       "      <th>low</th>\n",
       "      <th>close</th>\n",
       "      <th>volume</th>\n",
       "      <th>trade_count</th>\n",
       "      <th>vwap</th>\n",
       "      <th>daily_return</th>\n",
       "      <th>open</th>\n",
       "      <th>high</th>\n",
       "      <th>low</th>\n",
       "      <th>close</th>\n",
       "      <th>volume</th>\n",
       "      <th>trade_count</th>\n",
       "      <th>vwap</th>\n",
       "      <th>daily_return</th>\n",
       "    </tr>\n",
       "    <tr>\n",
       "      <th>timestamp</th>\n",
       "      <th></th>\n",
       "      <th></th>\n",
       "      <th></th>\n",
       "      <th></th>\n",
       "      <th></th>\n",
       "      <th></th>\n",
       "      <th></th>\n",
       "      <th></th>\n",
       "      <th></th>\n",
       "      <th></th>\n",
       "      <th></th>\n",
       "      <th></th>\n",
       "      <th></th>\n",
       "      <th></th>\n",
       "      <th></th>\n",
       "      <th></th>\n",
       "    </tr>\n",
       "  </thead>\n",
       "  <tbody>\n",
       "    <tr>\n",
       "      <th>2019-03-11 04:00:00+00:00</th>\n",
       "      <td>275.32</td>\n",
       "      <td>278.6200</td>\n",
       "      <td>275.2300</td>\n",
       "      <td>278.48</td>\n",
       "      <td>65294048</td>\n",
       "      <td>291889</td>\n",
       "      <td>277.616552</td>\n",
       "      <td>NaN</td>\n",
       "      <td>107.44</td>\n",
       "      <td>107.4700</td>\n",
       "      <td>107.35</td>\n",
       "      <td>107.44</td>\n",
       "      <td>5638443</td>\n",
       "      <td>13038</td>\n",
       "      <td>107.419866</td>\n",
       "      <td>NaN</td>\n",
       "    </tr>\n",
       "    <tr>\n",
       "      <th>2019-03-12 04:00:00+00:00</th>\n",
       "      <td>279.05</td>\n",
       "      <td>280.0700</td>\n",
       "      <td>278.8500</td>\n",
       "      <td>279.44</td>\n",
       "      <td>79864066</td>\n",
       "      <td>279077</td>\n",
       "      <td>279.342632</td>\n",
       "      <td>0.003447</td>\n",
       "      <td>107.50</td>\n",
       "      <td>107.6685</td>\n",
       "      <td>107.43</td>\n",
       "      <td>107.64</td>\n",
       "      <td>5243350</td>\n",
       "      <td>11188</td>\n",
       "      <td>107.552960</td>\n",
       "      <td>0.001862</td>\n",
       "    </tr>\n",
       "    <tr>\n",
       "      <th>2019-03-13 04:00:00+00:00</th>\n",
       "      <td>280.49</td>\n",
       "      <td>283.3052</td>\n",
       "      <td>280.3000</td>\n",
       "      <td>281.33</td>\n",
       "      <td>81854673</td>\n",
       "      <td>300658</td>\n",
       "      <td>281.147789</td>\n",
       "      <td>0.006764</td>\n",
       "      <td>107.56</td>\n",
       "      <td>107.6100</td>\n",
       "      <td>107.51</td>\n",
       "      <td>107.59</td>\n",
       "      <td>2608927</td>\n",
       "      <td>10440</td>\n",
       "      <td>107.575730</td>\n",
       "      <td>-0.000465</td>\n",
       "    </tr>\n",
       "    <tr>\n",
       "      <th>2019-03-14 04:00:00+00:00</th>\n",
       "      <td>281.33</td>\n",
       "      <td>281.8400</td>\n",
       "      <td>280.6662</td>\n",
       "      <td>281.20</td>\n",
       "      <td>69842399</td>\n",
       "      <td>249032</td>\n",
       "      <td>281.287653</td>\n",
       "      <td>-0.000462</td>\n",
       "      <td>107.57</td>\n",
       "      <td>107.5800</td>\n",
       "      <td>107.39</td>\n",
       "      <td>107.43</td>\n",
       "      <td>2955425</td>\n",
       "      <td>9778</td>\n",
       "      <td>107.479354</td>\n",
       "      <td>-0.001487</td>\n",
       "    </tr>\n",
       "    <tr>\n",
       "      <th>2019-03-15 04:00:00+00:00</th>\n",
       "      <td>280.59</td>\n",
       "      <td>282.2100</td>\n",
       "      <td>280.3300</td>\n",
       "      <td>281.34</td>\n",
       "      <td>82619175</td>\n",
       "      <td>308447</td>\n",
       "      <td>281.197459</td>\n",
       "      <td>0.000498</td>\n",
       "      <td>107.65</td>\n",
       "      <td>107.7396</td>\n",
       "      <td>107.57</td>\n",
       "      <td>107.70</td>\n",
       "      <td>2757416</td>\n",
       "      <td>11232</td>\n",
       "      <td>107.655037</td>\n",
       "      <td>0.002513</td>\n",
       "    </tr>\n",
       "  </tbody>\n",
       "</table>\n",
       "</div>"
      ],
      "text/plain": [
       "                              SPY                                        \\\n",
       "                             open      high       low   close    volume   \n",
       "timestamp                                                                 \n",
       "2019-03-11 04:00:00+00:00  275.32  278.6200  275.2300  278.48  65294048   \n",
       "2019-03-12 04:00:00+00:00  279.05  280.0700  278.8500  279.44  79864066   \n",
       "2019-03-13 04:00:00+00:00  280.49  283.3052  280.3000  281.33  81854673   \n",
       "2019-03-14 04:00:00+00:00  281.33  281.8400  280.6662  281.20  69842399   \n",
       "2019-03-15 04:00:00+00:00  280.59  282.2100  280.3300  281.34  82619175   \n",
       "\n",
       "                                                                   AGG  \\\n",
       "                          trade_count        vwap daily_return    open   \n",
       "timestamp                                                                \n",
       "2019-03-11 04:00:00+00:00      291889  277.616552          NaN  107.44   \n",
       "2019-03-12 04:00:00+00:00      279077  279.342632     0.003447  107.50   \n",
       "2019-03-13 04:00:00+00:00      300658  281.147789     0.006764  107.56   \n",
       "2019-03-14 04:00:00+00:00      249032  281.287653    -0.000462  107.57   \n",
       "2019-03-15 04:00:00+00:00      308447  281.197459     0.000498  107.65   \n",
       "\n",
       "                                                                          \\\n",
       "                               high     low   close   volume trade_count   \n",
       "timestamp                                                                  \n",
       "2019-03-11 04:00:00+00:00  107.4700  107.35  107.44  5638443       13038   \n",
       "2019-03-12 04:00:00+00:00  107.6685  107.43  107.64  5243350       11188   \n",
       "2019-03-13 04:00:00+00:00  107.6100  107.51  107.59  2608927       10440   \n",
       "2019-03-14 04:00:00+00:00  107.5800  107.39  107.43  2955425        9778   \n",
       "2019-03-15 04:00:00+00:00  107.7396  107.57  107.70  2757416       11232   \n",
       "\n",
       "                                                    \n",
       "                                 vwap daily_return  \n",
       "timestamp                                           \n",
       "2019-03-11 04:00:00+00:00  107.419866          NaN  \n",
       "2019-03-12 04:00:00+00:00  107.552960     0.001862  \n",
       "2019-03-13 04:00:00+00:00  107.575730    -0.000465  \n",
       "2019-03-14 04:00:00+00:00  107.479354    -0.001487  \n",
       "2019-03-15 04:00:00+00:00  107.655037     0.002513  "
      ]
     },
     "execution_count": 81,
     "metadata": {},
     "output_type": "execute_result"
    }
   ],
   "source": [
    "# Configure the Monte Carlo simulation to forecast 30 years cumulative returns\n",
    "# The weights should be split 40% to AGG and 60% to SPY.\n",
    "# Run 500 samples.\n",
    "MC_30y = MCSimulation(\n",
    "  portfolio_data = spy_agg_3y,\n",
    "  weights = [.60,.40],\n",
    "  num_simulation = 500,\n",
    "  num_trading_days = 252*30\n",
    ")\n",
    "\n",
    "# Review the simulation input data\n",
    "MC_30y.portfolio_data.head()"
   ]
  },
  {
   "cell_type": "code",
   "execution_count": 82,
   "metadata": {},
   "outputs": [
    {
     "name": "stdout",
     "output_type": "stream",
     "text": [
      "Running Monte Carlo simulation number 0.\n",
      "Running Monte Carlo simulation number 10.\n",
      "Running Monte Carlo simulation number 20.\n",
      "Running Monte Carlo simulation number 30.\n",
      "Running Monte Carlo simulation number 40.\n",
      "Running Monte Carlo simulation number 50.\n",
      "Running Monte Carlo simulation number 60.\n",
      "Running Monte Carlo simulation number 70.\n",
      "Running Monte Carlo simulation number 80.\n",
      "Running Monte Carlo simulation number 90.\n",
      "Running Monte Carlo simulation number 100.\n"
     ]
    },
    {
     "name": "stderr",
     "output_type": "stream",
     "text": [
      "C:\\Users\\clear\\Desktop\\FinTech\\Week_05\\Challenge\\5_Financial_Plans\\Starter_Code\\MCForecastTools.py:117: PerformanceWarning: DataFrame is highly fragmented.  This is usually the result of calling `frame.insert` many times, which has poor performance.  Consider joining all columns at once using pd.concat(axis=1) instead.  To get a de-fragmented frame, use `newframe = frame.copy()`\n",
      "  portfolio_cumulative_returns[n] = (1 + sim_df.fillna(0)).cumprod()\n"
     ]
    },
    {
     "name": "stdout",
     "output_type": "stream",
     "text": [
      "Running Monte Carlo simulation number 110.\n",
      "Running Monte Carlo simulation number 120.\n",
      "Running Monte Carlo simulation number 130.\n",
      "Running Monte Carlo simulation number 140.\n",
      "Running Monte Carlo simulation number 150.\n",
      "Running Monte Carlo simulation number 160.\n",
      "Running Monte Carlo simulation number 170.\n",
      "Running Monte Carlo simulation number 180.\n",
      "Running Monte Carlo simulation number 190.\n",
      "Running Monte Carlo simulation number 200.\n",
      "Running Monte Carlo simulation number 210.\n",
      "Running Monte Carlo simulation number 220.\n",
      "Running Monte Carlo simulation number 230.\n",
      "Running Monte Carlo simulation number 240.\n",
      "Running Monte Carlo simulation number 250.\n",
      "Running Monte Carlo simulation number 260.\n",
      "Running Monte Carlo simulation number 270.\n",
      "Running Monte Carlo simulation number 280.\n",
      "Running Monte Carlo simulation number 290.\n",
      "Running Monte Carlo simulation number 300.\n",
      "Running Monte Carlo simulation number 310.\n",
      "Running Monte Carlo simulation number 320.\n",
      "Running Monte Carlo simulation number 330.\n",
      "Running Monte Carlo simulation number 340.\n",
      "Running Monte Carlo simulation number 350.\n",
      "Running Monte Carlo simulation number 360.\n",
      "Running Monte Carlo simulation number 370.\n",
      "Running Monte Carlo simulation number 380.\n",
      "Running Monte Carlo simulation number 390.\n",
      "Running Monte Carlo simulation number 400.\n",
      "Running Monte Carlo simulation number 410.\n",
      "Running Monte Carlo simulation number 420.\n",
      "Running Monte Carlo simulation number 430.\n",
      "Running Monte Carlo simulation number 440.\n",
      "Running Monte Carlo simulation number 450.\n",
      "Running Monte Carlo simulation number 460.\n",
      "Running Monte Carlo simulation number 470.\n",
      "Running Monte Carlo simulation number 480.\n",
      "Running Monte Carlo simulation number 490.\n"
     ]
    },
    {
     "data": {
      "text/html": [
       "<div>\n",
       "<style scoped>\n",
       "    .dataframe tbody tr th:only-of-type {\n",
       "        vertical-align: middle;\n",
       "    }\n",
       "\n",
       "    .dataframe tbody tr th {\n",
       "        vertical-align: top;\n",
       "    }\n",
       "\n",
       "    .dataframe thead th {\n",
       "        text-align: right;\n",
       "    }\n",
       "</style>\n",
       "<table border=\"1\" class=\"dataframe\">\n",
       "  <thead>\n",
       "    <tr style=\"text-align: right;\">\n",
       "      <th></th>\n",
       "      <th>0</th>\n",
       "      <th>1</th>\n",
       "      <th>2</th>\n",
       "      <th>3</th>\n",
       "      <th>4</th>\n",
       "      <th>5</th>\n",
       "      <th>6</th>\n",
       "      <th>7</th>\n",
       "      <th>8</th>\n",
       "      <th>9</th>\n",
       "      <th>...</th>\n",
       "      <th>490</th>\n",
       "      <th>491</th>\n",
       "      <th>492</th>\n",
       "      <th>493</th>\n",
       "      <th>494</th>\n",
       "      <th>495</th>\n",
       "      <th>496</th>\n",
       "      <th>497</th>\n",
       "      <th>498</th>\n",
       "      <th>499</th>\n",
       "    </tr>\n",
       "  </thead>\n",
       "  <tbody>\n",
       "    <tr>\n",
       "      <th>0</th>\n",
       "      <td>1.000000</td>\n",
       "      <td>1.000000</td>\n",
       "      <td>1.000000</td>\n",
       "      <td>1.000000</td>\n",
       "      <td>1.000000</td>\n",
       "      <td>1.000000</td>\n",
       "      <td>1.000000</td>\n",
       "      <td>1.000000</td>\n",
       "      <td>1.000000</td>\n",
       "      <td>1.000000</td>\n",
       "      <td>...</td>\n",
       "      <td>1.000000</td>\n",
       "      <td>1.000000</td>\n",
       "      <td>1.000000</td>\n",
       "      <td>1.000000</td>\n",
       "      <td>1.000000</td>\n",
       "      <td>1.000000</td>\n",
       "      <td>1.000000</td>\n",
       "      <td>1.000000</td>\n",
       "      <td>1.000000</td>\n",
       "      <td>1.000000</td>\n",
       "    </tr>\n",
       "    <tr>\n",
       "      <th>1</th>\n",
       "      <td>1.003814</td>\n",
       "      <td>0.996765</td>\n",
       "      <td>0.999200</td>\n",
       "      <td>1.011782</td>\n",
       "      <td>1.003919</td>\n",
       "      <td>0.998800</td>\n",
       "      <td>0.983060</td>\n",
       "      <td>1.002478</td>\n",
       "      <td>1.015015</td>\n",
       "      <td>0.994358</td>\n",
       "      <td>...</td>\n",
       "      <td>1.005191</td>\n",
       "      <td>1.009870</td>\n",
       "      <td>1.005478</td>\n",
       "      <td>1.004422</td>\n",
       "      <td>1.004997</td>\n",
       "      <td>0.996664</td>\n",
       "      <td>0.993336</td>\n",
       "      <td>1.010449</td>\n",
       "      <td>1.007713</td>\n",
       "      <td>1.011134</td>\n",
       "    </tr>\n",
       "    <tr>\n",
       "      <th>2</th>\n",
       "      <td>1.012852</td>\n",
       "      <td>1.003526</td>\n",
       "      <td>0.996206</td>\n",
       "      <td>1.022696</td>\n",
       "      <td>1.008319</td>\n",
       "      <td>0.994207</td>\n",
       "      <td>0.992897</td>\n",
       "      <td>1.008155</td>\n",
       "      <td>1.012857</td>\n",
       "      <td>0.996902</td>\n",
       "      <td>...</td>\n",
       "      <td>0.999712</td>\n",
       "      <td>1.006242</td>\n",
       "      <td>1.013255</td>\n",
       "      <td>1.000012</td>\n",
       "      <td>1.014050</td>\n",
       "      <td>0.995889</td>\n",
       "      <td>0.994412</td>\n",
       "      <td>1.018790</td>\n",
       "      <td>1.003495</td>\n",
       "      <td>1.002811</td>\n",
       "    </tr>\n",
       "    <tr>\n",
       "      <th>3</th>\n",
       "      <td>1.025234</td>\n",
       "      <td>0.996607</td>\n",
       "      <td>0.988973</td>\n",
       "      <td>1.028668</td>\n",
       "      <td>1.018124</td>\n",
       "      <td>0.993669</td>\n",
       "      <td>0.974864</td>\n",
       "      <td>1.018693</td>\n",
       "      <td>1.009162</td>\n",
       "      <td>0.994164</td>\n",
       "      <td>...</td>\n",
       "      <td>1.010599</td>\n",
       "      <td>1.023923</td>\n",
       "      <td>1.019596</td>\n",
       "      <td>1.000022</td>\n",
       "      <td>1.017606</td>\n",
       "      <td>0.998684</td>\n",
       "      <td>0.998996</td>\n",
       "      <td>1.014369</td>\n",
       "      <td>1.003366</td>\n",
       "      <td>0.998731</td>\n",
       "    </tr>\n",
       "    <tr>\n",
       "      <th>4</th>\n",
       "      <td>1.030157</td>\n",
       "      <td>0.986818</td>\n",
       "      <td>0.997515</td>\n",
       "      <td>1.026326</td>\n",
       "      <td>1.016292</td>\n",
       "      <td>0.980057</td>\n",
       "      <td>0.986018</td>\n",
       "      <td>1.040780</td>\n",
       "      <td>1.015558</td>\n",
       "      <td>0.985411</td>\n",
       "      <td>...</td>\n",
       "      <td>1.006773</td>\n",
       "      <td>1.027203</td>\n",
       "      <td>1.027046</td>\n",
       "      <td>0.999904</td>\n",
       "      <td>1.031146</td>\n",
       "      <td>0.990452</td>\n",
       "      <td>0.998438</td>\n",
       "      <td>1.020685</td>\n",
       "      <td>1.001801</td>\n",
       "      <td>1.006160</td>\n",
       "    </tr>\n",
       "    <tr>\n",
       "      <th>...</th>\n",
       "      <td>...</td>\n",
       "      <td>...</td>\n",
       "      <td>...</td>\n",
       "      <td>...</td>\n",
       "      <td>...</td>\n",
       "      <td>...</td>\n",
       "      <td>...</td>\n",
       "      <td>...</td>\n",
       "      <td>...</td>\n",
       "      <td>...</td>\n",
       "      <td>...</td>\n",
       "      <td>...</td>\n",
       "      <td>...</td>\n",
       "      <td>...</td>\n",
       "      <td>...</td>\n",
       "      <td>...</td>\n",
       "      <td>...</td>\n",
       "      <td>...</td>\n",
       "      <td>...</td>\n",
       "      <td>...</td>\n",
       "      <td>...</td>\n",
       "    </tr>\n",
       "    <tr>\n",
       "      <th>7556</th>\n",
       "      <td>22.035544</td>\n",
       "      <td>23.972137</td>\n",
       "      <td>21.776467</td>\n",
       "      <td>8.310547</td>\n",
       "      <td>18.397981</td>\n",
       "      <td>12.395083</td>\n",
       "      <td>12.959410</td>\n",
       "      <td>32.332266</td>\n",
       "      <td>7.285053</td>\n",
       "      <td>18.906846</td>\n",
       "      <td>...</td>\n",
       "      <td>19.831753</td>\n",
       "      <td>30.324177</td>\n",
       "      <td>18.191075</td>\n",
       "      <td>10.976086</td>\n",
       "      <td>16.820640</td>\n",
       "      <td>5.964042</td>\n",
       "      <td>10.969629</td>\n",
       "      <td>11.940859</td>\n",
       "      <td>20.528756</td>\n",
       "      <td>39.930362</td>\n",
       "    </tr>\n",
       "    <tr>\n",
       "      <th>7557</th>\n",
       "      <td>22.148763</td>\n",
       "      <td>24.131310</td>\n",
       "      <td>22.070926</td>\n",
       "      <td>8.280319</td>\n",
       "      <td>18.179815</td>\n",
       "      <td>12.413480</td>\n",
       "      <td>13.098717</td>\n",
       "      <td>32.153339</td>\n",
       "      <td>7.324236</td>\n",
       "      <td>18.882501</td>\n",
       "      <td>...</td>\n",
       "      <td>19.972745</td>\n",
       "      <td>30.299638</td>\n",
       "      <td>18.292457</td>\n",
       "      <td>10.894148</td>\n",
       "      <td>16.884423</td>\n",
       "      <td>6.040637</td>\n",
       "      <td>10.816707</td>\n",
       "      <td>11.936212</td>\n",
       "      <td>20.509171</td>\n",
       "      <td>40.051361</td>\n",
       "    </tr>\n",
       "    <tr>\n",
       "      <th>7558</th>\n",
       "      <td>21.921409</td>\n",
       "      <td>24.209067</td>\n",
       "      <td>22.151138</td>\n",
       "      <td>8.410089</td>\n",
       "      <td>18.116601</td>\n",
       "      <td>12.528382</td>\n",
       "      <td>13.066396</td>\n",
       "      <td>32.517110</td>\n",
       "      <td>7.474079</td>\n",
       "      <td>18.839400</td>\n",
       "      <td>...</td>\n",
       "      <td>20.057599</td>\n",
       "      <td>30.321344</td>\n",
       "      <td>18.344336</td>\n",
       "      <td>10.839570</td>\n",
       "      <td>16.868504</td>\n",
       "      <td>6.031211</td>\n",
       "      <td>10.850282</td>\n",
       "      <td>11.848513</td>\n",
       "      <td>20.513317</td>\n",
       "      <td>40.072453</td>\n",
       "    </tr>\n",
       "    <tr>\n",
       "      <th>7559</th>\n",
       "      <td>21.915112</td>\n",
       "      <td>24.259486</td>\n",
       "      <td>22.063347</td>\n",
       "      <td>8.447822</td>\n",
       "      <td>18.258526</td>\n",
       "      <td>12.568038</td>\n",
       "      <td>13.116614</td>\n",
       "      <td>32.542587</td>\n",
       "      <td>7.386917</td>\n",
       "      <td>18.790867</td>\n",
       "      <td>...</td>\n",
       "      <td>20.431039</td>\n",
       "      <td>30.199337</td>\n",
       "      <td>18.222942</td>\n",
       "      <td>10.726501</td>\n",
       "      <td>16.776819</td>\n",
       "      <td>6.016639</td>\n",
       "      <td>10.776337</td>\n",
       "      <td>11.792850</td>\n",
       "      <td>20.217084</td>\n",
       "      <td>40.168027</td>\n",
       "    </tr>\n",
       "    <tr>\n",
       "      <th>7560</th>\n",
       "      <td>22.201985</td>\n",
       "      <td>24.309975</td>\n",
       "      <td>22.021942</td>\n",
       "      <td>8.392149</td>\n",
       "      <td>18.063008</td>\n",
       "      <td>12.665117</td>\n",
       "      <td>13.107457</td>\n",
       "      <td>32.335326</td>\n",
       "      <td>7.390536</td>\n",
       "      <td>18.630034</td>\n",
       "      <td>...</td>\n",
       "      <td>20.479143</td>\n",
       "      <td>30.133622</td>\n",
       "      <td>18.226184</td>\n",
       "      <td>10.766753</td>\n",
       "      <td>16.847789</td>\n",
       "      <td>6.016765</td>\n",
       "      <td>10.728252</td>\n",
       "      <td>11.619655</td>\n",
       "      <td>20.121519</td>\n",
       "      <td>40.518256</td>\n",
       "    </tr>\n",
       "  </tbody>\n",
       "</table>\n",
       "<p>7561 rows × 500 columns</p>\n",
       "</div>"
      ],
      "text/plain": [
       "            0          1          2         3          4          5    \\\n",
       "0      1.000000   1.000000   1.000000  1.000000   1.000000   1.000000   \n",
       "1      1.003814   0.996765   0.999200  1.011782   1.003919   0.998800   \n",
       "2      1.012852   1.003526   0.996206  1.022696   1.008319   0.994207   \n",
       "3      1.025234   0.996607   0.988973  1.028668   1.018124   0.993669   \n",
       "4      1.030157   0.986818   0.997515  1.026326   1.016292   0.980057   \n",
       "...         ...        ...        ...       ...        ...        ...   \n",
       "7556  22.035544  23.972137  21.776467  8.310547  18.397981  12.395083   \n",
       "7557  22.148763  24.131310  22.070926  8.280319  18.179815  12.413480   \n",
       "7558  21.921409  24.209067  22.151138  8.410089  18.116601  12.528382   \n",
       "7559  21.915112  24.259486  22.063347  8.447822  18.258526  12.568038   \n",
       "7560  22.201985  24.309975  22.021942  8.392149  18.063008  12.665117   \n",
       "\n",
       "            6          7         8          9    ...        490        491  \\\n",
       "0      1.000000   1.000000  1.000000   1.000000  ...   1.000000   1.000000   \n",
       "1      0.983060   1.002478  1.015015   0.994358  ...   1.005191   1.009870   \n",
       "2      0.992897   1.008155  1.012857   0.996902  ...   0.999712   1.006242   \n",
       "3      0.974864   1.018693  1.009162   0.994164  ...   1.010599   1.023923   \n",
       "4      0.986018   1.040780  1.015558   0.985411  ...   1.006773   1.027203   \n",
       "...         ...        ...       ...        ...  ...        ...        ...   \n",
       "7556  12.959410  32.332266  7.285053  18.906846  ...  19.831753  30.324177   \n",
       "7557  13.098717  32.153339  7.324236  18.882501  ...  19.972745  30.299638   \n",
       "7558  13.066396  32.517110  7.474079  18.839400  ...  20.057599  30.321344   \n",
       "7559  13.116614  32.542587  7.386917  18.790867  ...  20.431039  30.199337   \n",
       "7560  13.107457  32.335326  7.390536  18.630034  ...  20.479143  30.133622   \n",
       "\n",
       "            492        493        494       495        496        497  \\\n",
       "0      1.000000   1.000000   1.000000  1.000000   1.000000   1.000000   \n",
       "1      1.005478   1.004422   1.004997  0.996664   0.993336   1.010449   \n",
       "2      1.013255   1.000012   1.014050  0.995889   0.994412   1.018790   \n",
       "3      1.019596   1.000022   1.017606  0.998684   0.998996   1.014369   \n",
       "4      1.027046   0.999904   1.031146  0.990452   0.998438   1.020685   \n",
       "...         ...        ...        ...       ...        ...        ...   \n",
       "7556  18.191075  10.976086  16.820640  5.964042  10.969629  11.940859   \n",
       "7557  18.292457  10.894148  16.884423  6.040637  10.816707  11.936212   \n",
       "7558  18.344336  10.839570  16.868504  6.031211  10.850282  11.848513   \n",
       "7559  18.222942  10.726501  16.776819  6.016639  10.776337  11.792850   \n",
       "7560  18.226184  10.766753  16.847789  6.016765  10.728252  11.619655   \n",
       "\n",
       "            498        499  \n",
       "0      1.000000   1.000000  \n",
       "1      1.007713   1.011134  \n",
       "2      1.003495   1.002811  \n",
       "3      1.003366   0.998731  \n",
       "4      1.001801   1.006160  \n",
       "...         ...        ...  \n",
       "7556  20.528756  39.930362  \n",
       "7557  20.509171  40.051361  \n",
       "7558  20.513317  40.072453  \n",
       "7559  20.217084  40.168027  \n",
       "7560  20.121519  40.518256  \n",
       "\n",
       "[7561 rows x 500 columns]"
      ]
     },
     "execution_count": 82,
     "metadata": {},
     "output_type": "execute_result"
    }
   ],
   "source": [
    "# Run the Monte Carlo simulation to forecast 30 years cumulative returns\n",
    "MC_30y.calc_cumulative_return()\n"
   ]
  },
  {
   "cell_type": "code",
   "execution_count": 83,
   "metadata": {},
   "outputs": [
    {
     "data": {
      "image/png": "[encoded data removed]",
      "text/plain": [
       "<Figure size 432x288 with 1 Axes>"
      ]
     },
     "metadata": {
      "needs_background": "light"
     },
     "output_type": "display_data"
    }
   ],
   "source": [
    "# Visualize the 30-year Monte Carlo simulation by creating an\n",
    "# overlay line plot\n",
    "MC_sim_line_plot = MC_30y.plot_simulation()\n",
    "MC_sim_line_plot.get_figure().savefig(\"MC_thirty_year_sim_plot.png\", bbox_inches=\"tight\")\n"
   ]
  },
  {
   "cell_type": "markdown",
   "metadata": {},
   "source": [
    "#### Step 3: Plot the probability distribution of the Monte Carlo simulation."
   ]
  },
  {
   "cell_type": "code",
   "execution_count": 84,
   "metadata": {},
   "outputs": [
    {
     "data": {
      "image/png": "[encoded data removed]",
      "text/plain": [
       "<Figure size 432x288 with 1 Axes>"
      ]
     },
     "metadata": {
      "needs_background": "light"
     },
     "output_type": "display_data"
    }
   ],
   "source": [
    "# Visualize the probability distribution of the 30-year Monte Carlo simulation \n",
    "# by plotting a histogram\n",
    "MC_sim_dist_plot = MC_30y.plot_distribution()\n",
    "MC_sim_dist_plot.get_figure().savefig('MC_thirty_year_dist_plot.png',bbox_inches='tight')\n"
   ]
  },
  {
   "cell_type": "markdown",
   "metadata": {},
   "source": [
    "#### Step 4: Generate the summary statistics for the Monte Carlo simulation."
   ]
  },
  {
   "cell_type": "code",
   "execution_count": 85,
   "metadata": {},
   "outputs": [
    {
     "name": "stdout",
     "output_type": "stream",
     "text": [
      "count           500.000000\n",
      "mean             19.227195\n",
      "std              15.778190\n",
      "min               2.103881\n",
      "25%               9.353260\n",
      "50%              14.654829\n",
      "75%              23.435706\n",
      "max             143.625168\n",
      "95% CI Lower      4.169087\n",
      "95% CI Upper     59.469691\n",
      "Name: 7560, dtype: float64\n"
     ]
    }
   ],
   "source": [
    "# Generate summary statistics from the 30-year Monte Carlo simulation results\n",
    "# Save the results as a variable\n",
    "MC_summary_statistics = MC_30y.summarize_cumulative_return()\n",
    "\n",
    "# Review the 30-year Monte Carlo summary statistics\n",
    "print(MC_summary_statistics)"
   ]
  },
  {
   "cell_type": "markdown",
   "metadata": {},
   "source": [
    "### Analyze the Retirement Portfolio Forecasts\n",
    "\n",
    "Using the current value of only the stock and bond portion of the member's portfolio and the summary statistics that you generated from the Monte Carlo simulation, answer the following question in your Jupyter notebook:\n",
    "\n",
    "-  What are the lower and upper bounds for the expected value of the portfolio with a 95% confidence interval?\n"
   ]
  },
  {
   "cell_type": "code",
   "execution_count": null,
   "metadata": {},
   "outputs": [],
   "source": [
    "# Print the current balance of the stock and bond portion of the members portfolio\n",
    "# YOUR CODE HERE\n"
   ]
  },
  {
   "cell_type": "code",
   "execution_count": 91,
   "metadata": {},
   "outputs": [
    {
     "name": "stdout",
     "output_type": "stream",
     "text": [
      "Lower bound is 4.17\n",
      "Upper bound is 59.47\n"
     ]
    }
   ],
   "source": [
    "# Use the lower and upper `95%` confidence intervals to calculate the range of the possible outcomes for the current stock/bond portfolio\n",
    "ci_lower_thirty_cumulative_return = MC_summary_statistics[\"95% CI Lower\"]\n",
    "ci_upper_thirty_cumulative_return = MC_summary_statistics[\"95% CI Upper\"]\n",
    "\n",
    "# Print the result of your calculations\n",
    "print(f\"Lower bound is {ci_lower_thirty_cumulative_return:.2f}\")\n",
    "print(f\"Upper bound is {ci_upper_thirty_cumulative_return:.2f}\")"
   ]
  },
  {
   "cell_type": "markdown",
   "metadata": {},
   "source": [
    "### Forecast Cumulative Returns in 10 Years\n",
    "\n",
    "The CTO of the credit union is impressed with your work on these planning tools but wonders if 30 years is a long time to wait until retirement. So, your next task is to adjust the retirement portfolio and run a new Monte Carlo simulation to find out if the changes will allow members to retire earlier.\n",
    "\n",
    "For this new Monte Carlo simulation, do the following: \n",
    "\n",
    "- Forecast the cumulative returns for 10 years from now. Because of the shortened investment horizon (30 years to 10 years), the portfolio needs to invest more heavily in the riskier asset&mdash;that is, stock&mdash;to help accumulate wealth for retirement. \n",
    "\n",
    "- Adjust the weights of the retirement portfolio so that the composition for the Monte Carlo simulation consists of 20% bonds and 80% stocks. \n",
    "\n",
    "- Run the simulation over 500 samples, and use the same data that the API call to Alpaca generated.\n",
    "\n",
    "- Based on the new Monte Carlo simulation, answer the following questions in your Jupyter notebook:\n",
    "\n",
    "    - Using the current value of only the stock and bond portion of the member's portfolio and the summary statistics that you generated from the new Monte Carlo simulation, what are the lower and upper bounds for the expected value of the portfolio (with the new weights) with a 95% confidence interval?\n",
    "\n",
    "    - Will weighting the portfolio more heavily toward stocks allow the credit union members to retire after only 10 years?\n"
   ]
  },
  {
   "cell_type": "code",
   "execution_count": null,
   "metadata": {},
   "outputs": [],
   "source": [
    "# Configure a Monte Carlo simulation to forecast 10 years cumulative returns\n",
    "# The weights should be split 20% to AGG and 80% to SPY.\n",
    "# Run 500 samples.\n",
    "# YOUR CODE HERE\n",
    "\n",
    "# Review the simulation input data\n",
    "# YOUR CODE HERE\n"
   ]
  },
  {
   "cell_type": "code",
   "execution_count": null,
   "metadata": {},
   "outputs": [],
   "source": [
    "# Run the Monte Carlo simulation to forecast 10 years cumulative returns\n",
    "# YOUR CODE HERE\n"
   ]
  },
  {
   "cell_type": "code",
   "execution_count": null,
   "metadata": {},
   "outputs": [],
   "source": [
    "# Visualize the 10-year Monte Carlo simulation by creating an\n",
    "# overlay line plot\n",
    "# YOUR CODE HERE\n"
   ]
  },
  {
   "cell_type": "code",
   "execution_count": null,
   "metadata": {},
   "outputs": [],
   "source": [
    "# Visualize the probability distribution of the 10-year Monte Carlo simulation \n",
    "# by plotting a histogram\n",
    "# YOUR CODE HERE\n"
   ]
  },
  {
   "cell_type": "code",
   "execution_count": null,
   "metadata": {},
   "outputs": [],
   "source": [
    "# Generate summary statistics from the 10-year Monte Carlo simulation results\n",
    "# Save the results as a variable\n",
    "# YOUR CODE HERE\n",
    "\n",
    "\n",
    "# Review the 10-year Monte Carlo summary statistics\n",
    "# YOUR CODE HERE"
   ]
  },
  {
   "cell_type": "markdown",
   "metadata": {},
   "source": [
    "### Answer the following questions:"
   ]
  },
  {
   "cell_type": "markdown",
   "metadata": {},
   "source": [
    "#### Question: Using the current value of only the stock and bond portion of the member's portfolio and the summary statistics that you generated from the new Monte Carlo simulation, what are the lower and upper bounds for the expected value of the portfolio (with the new weights) with a 95% confidence interval?"
   ]
  },
  {
   "cell_type": "code",
   "execution_count": null,
   "metadata": {},
   "outputs": [],
   "source": [
    "# Print the current balance of the stock and bond portion of the members portfolio\n",
    "# YOUR CODE HERE\n"
   ]
  },
  {
   "cell_type": "code",
   "execution_count": null,
   "metadata": {},
   "outputs": [],
   "source": [
    "# Use the lower and upper `95%` confidence intervals to calculate the range of the possible outcomes for the current stock/bond portfolio\n",
    "ci_lower_ten_cumulative_return = # YOUR CODE HERE\n",
    "ci_upper_ten_cumulative_return = # YOUR CODE HERE\n",
    "\n",
    "# Print the result of your calculations\n",
    "# YOUR CODE HERE\n"
   ]
  },
  {
   "cell_type": "markdown",
   "metadata": {},
   "source": [
    "#### Question: Will weighting the portfolio more heavily to stocks allow the credit union members to retire after only 10 years?"
   ]
  },
  {
   "cell_type": "raw",
   "metadata": {},
   "source": [
    "**Answer** # YOUR ANSWER HERE"
   ]
  },
  {
   "cell_type": "code",
   "execution_count": null,
   "metadata": {},
   "outputs": [],
   "source": []
  }
 ],
 "metadata": {
  "kernelspec": {
   "display_name": "dev",
   "language": "python",
   "name": "dev"
  },
  "language_info": {
   "codemirror_mode": {
    "name": "ipython",
    "version": 3
   },
   "file_extension": ".py",
   "mimetype": "text/x-python",
   "name": "python",
   "nbconvert_exporter": "python",
   "pygments_lexer": "ipython3",
   "version": "3.7.11"
  }
 },
 "nbformat": 4,
 "nbformat_minor": 4
}
